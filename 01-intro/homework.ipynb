{
 "cells": [
  {
   "cell_type": "markdown",
   "id": "1102adfd-2d04-4826-a5bd-d5ebf27ab4fc",
   "metadata": {},
   "source": [
    "## Q1. Running Elastic "
   ]
  },
  {
   "cell_type": "markdown",
   "id": "3621d9ee-91fa-4ab5-a682-30af00d77e18",
   "metadata": {},
   "source": [
    "![running_elastic](../images/01_q1.png)"
   ]
  },
  {
   "cell_type": "markdown",
   "id": "30c296f8-0c36-4b14-8542-10aa840995da",
   "metadata": {},
   "source": [
    "The answer is: **42f05b9372a9a4a470db3b52817899b99a76ee73**"
   ]
  },
  {
   "cell_type": "markdown",
   "id": "84699ae8-cd72-4fdd-adcc-c93b80b704ac",
   "metadata": {},
   "source": [
    "## Getting the data"
   ]
  },
  {
   "cell_type": "code",
   "execution_count": 3,
   "id": "b33be837-a057-4039-9dfa-85adaf1aeeb4",
   "metadata": {},
   "outputs": [],
   "source": [
    "import requests \n",
    "\n",
    "docs_url = 'https://github.com/DataTalksClub/llm-zoomcamp/blob/main/01-intro/documents.json?raw=1'\n",
    "docs_response = requests.get(docs_url)\n",
    "documents_raw = docs_response.json()\n",
    "\n",
    "documents = []\n",
    "\n",
    "for course in documents_raw:\n",
    "    course_name = course['course']\n",
    "\n",
    "    for doc in course['documents']:\n",
    "        doc['course'] = course_name\n",
    "        documents.append(doc)"
   ]
  },
  {
   "cell_type": "markdown",
   "id": "71ef914b-56f6-407e-bb1c-580f4cec62c4",
   "metadata": {},
   "source": [
    "## Q2. Indexing the data"
   ]
  },
  {
   "cell_type": "code",
   "execution_count": 4,
   "id": "acb1c5ea-6a27-4769-8800-2461b55d3ea9",
   "metadata": {},
   "outputs": [],
   "source": [
    "from elasticsearch import Elasticsearch"
   ]
  },
  {
   "cell_type": "code",
   "execution_count": 5,
   "id": "3816cbed-46b0-484d-8da3-31d36657374d",
   "metadata": {},
   "outputs": [],
   "source": [
    "es_client = Elasticsearch(\"http://localhost:9200\")"
   ]
  },
  {
   "cell_type": "code",
   "execution_count": 6,
   "id": "86e01dc2-90a6-47ab-8ab1-23d40265a4cb",
   "metadata": {},
   "outputs": [],
   "source": [
    "index_settings = {\n",
    "    \"settings\": {\n",
    "        \"number_of_shards\": 1,\n",
    "        \"number_of_replicas\": 0\n",
    "    },\n",
    "    \"mappings\": {\n",
    "        \"properties\": {\n",
    "            \"text\": {\"type\": \"text\"},\n",
    "            \"section\": {\"type\": \"text\"},\n",
    "            \"question\": {\"type\": \"text\"},\n",
    "            \"course\": {\"type\": \"keyword\"} \n",
    "        }\n",
    "    }\n",
    "}\n",
    "\n",
    "index_name = \"course-questions\""
   ]
  },
  {
   "cell_type": "code",
   "execution_count": 7,
   "id": "23ad4527-7211-4310-ad20-7d681c966331",
   "metadata": {},
   "outputs": [
    {
     "data": {
      "text/plain": [
       "ObjectApiResponse({'acknowledged': True, 'shards_acknowledged': True, 'index': 'course-questions'})"
      ]
     },
     "execution_count": 7,
     "metadata": {},
     "output_type": "execute_result"
    }
   ],
   "source": [
    "es_client.indices.create(index=index_name, body=index_settings)"
   ]
  },
  {
   "cell_type": "code",
   "execution_count": 8,
   "id": "60f008f4-ef18-41c7-9381-1621d6805ff6",
   "metadata": {},
   "outputs": [
    {
     "name": "stderr",
     "output_type": "stream",
     "text": [
      "/usr/local/python/3.10.13/lib/python3.10/site-packages/tqdm/auto.py:21: TqdmWarning: IProgress not found. Please update jupyter and ipywidgets. See https://ipywidgets.readthedocs.io/en/stable/user_install.html\n",
      "  from .autonotebook import tqdm as notebook_tqdm\n"
     ]
    }
   ],
   "source": [
    "from tqdm.auto import tqdm"
   ]
  },
  {
   "cell_type": "code",
   "execution_count": 9,
   "id": "4d7885f3-1dee-4f14-a629-bfab15d88081",
   "metadata": {},
   "outputs": [
    {
     "name": "stderr",
     "output_type": "stream",
     "text": [
      "100%|██████████| 948/948 [00:25<00:00, 37.47it/s]\n"
     ]
    }
   ],
   "source": [
    "for doc in tqdm(documents):\n",
    "    es_client.index(index=index_name, document=doc)"
   ]
  },
  {
   "cell_type": "markdown",
   "id": "ef901f53-71f2-4002-b173-d942adba237d",
   "metadata": {},
   "source": [
    "As we can see above, the function to insert the documents is **index**"
   ]
  },
  {
   "cell_type": "markdown",
   "id": "860865d3-2948-4b21-9ca3-0c1b85a347c2",
   "metadata": {},
   "source": [
    "## Q3. Searching"
   ]
  },
  {
   "cell_type": "code",
   "execution_count": 10,
   "id": "6c177835-83bf-476c-8c5e-53ae312fdc64",
   "metadata": {},
   "outputs": [],
   "source": [
    "query = \"How do I execute a command in a running docker container?\""
   ]
  },
  {
   "cell_type": "code",
   "execution_count": 11,
   "id": "0cd799ee-3ddd-45dc-9e01-e4e8ed15a3cc",
   "metadata": {},
   "outputs": [],
   "source": [
    "search_query = {\n",
    "    \"size\": 5,\n",
    "    \"query\": {\n",
    "        \"bool\": {\n",
    "            \"must\": {\n",
    "                \"multi_match\": {\n",
    "                    \"query\": query,\n",
    "                    \"fields\": [\"question^4\", \"text\"],\n",
    "                    \"type\": \"best_fields\"\n",
    "                }\n",
    "            }\n",
    "        }\n",
    "    }\n",
    "}"
   ]
  },
  {
   "cell_type": "code",
   "execution_count": 12,
   "id": "786393a9-3bcb-490f-9eda-74b8e6000b91",
   "metadata": {},
   "outputs": [],
   "source": [
    "response = es_client.search(index=index_name, body=search_query)"
   ]
  },
  {
   "cell_type": "code",
   "execution_count": 13,
   "id": "0998cb9c-5259-45b1-a43a-3adb310d19be",
   "metadata": {},
   "outputs": [],
   "source": [
    "result_hits = []\n",
    "\n",
    "for hit in response[\"hits\"][\"hits\"]:\n",
    "    result_hits.append(hit[\"_score\"])"
   ]
  },
  {
   "cell_type": "code",
   "execution_count": 14,
   "id": "e66f0dff-2ed7-4925-b1fa-054fb7fd463b",
   "metadata": {},
   "outputs": [
    {
     "data": {
      "text/plain": [
       "[84.050095, 75.54128, 72.08518, 51.04628, 49.938507]"
      ]
     },
     "execution_count": 14,
     "metadata": {},
     "output_type": "execute_result"
    }
   ],
   "source": [
    "result_hits"
   ]
  },
  {
   "cell_type": "markdown",
   "id": "361d451c-9323-459c-bee7-8c1e135dc4f1",
   "metadata": {},
   "source": [
    "The best score is: **84.05**"
   ]
  },
  {
   "cell_type": "markdown",
   "id": "ca7c64fc-6527-4748-8f25-475d2ea7545b",
   "metadata": {},
   "source": [
    "## Q4. Filtering"
   ]
  },
  {
   "cell_type": "code",
   "execution_count": 15,
   "id": "03f146a6-2a68-406b-bfaf-4a302e472b0a",
   "metadata": {},
   "outputs": [],
   "source": [
    "search_query = {\n",
    "    \"size\": 3,\n",
    "    \"query\": {\n",
    "        \"bool\": {\n",
    "            \"must\": {\n",
    "                \"multi_match\": {\n",
    "                    \"query\": query,\n",
    "                    \"fields\": [\"question^4\", \"text\"],\n",
    "                    \"type\": \"best_fields\"\n",
    "                }\n",
    "            },\n",
    "            \"filter\": {\n",
    "                \"term\": {\n",
    "                    \"course\": \"machine-learning-zoomcamp\"\n",
    "                }\n",
    "            }\n",
    "        }\n",
    "    }\n",
    "}"
   ]
  },
  {
   "cell_type": "code",
   "execution_count": 16,
   "id": "1a8f3174-546f-47c7-bd87-43c0f4b9a4c3",
   "metadata": {},
   "outputs": [],
   "source": [
    "response = es_client.search(index=index_name, body=search_query)"
   ]
  },
  {
   "cell_type": "code",
   "execution_count": 17,
   "id": "7c75265f-39eb-4bd3-b31e-ea6097e51513",
   "metadata": {},
   "outputs": [],
   "source": [
    "result_docs = []\n",
    "\n",
    "for hit in response[\"hits\"][\"hits\"]:\n",
    "    result_docs.append(hit[\"_source\"][\"question\"])"
   ]
  },
  {
   "cell_type": "code",
   "execution_count": 18,
   "id": "c3fb6608-143c-4c41-a716-848793b65bbf",
   "metadata": {},
   "outputs": [
    {
     "data": {
      "text/plain": [
       "['How do I debug a docker container?',\n",
       " 'How do I copy files from my local machine to docker container?',\n",
       " 'How do I copy files from a different folder into docker container’s working directory?']"
      ]
     },
     "execution_count": 18,
     "metadata": {},
     "output_type": "execute_result"
    }
   ],
   "source": [
    "result_docs"
   ]
  },
  {
   "cell_type": "markdown",
   "id": "1608d6b9-420b-4180-b0e7-bc0a562fe543",
   "metadata": {},
   "source": [
    "The third question returned is:\n",
    "\n",
    "**\"How do I copy files from a different folder into docker container’s working directory?\"**"
   ]
  },
  {
   "cell_type": "markdown",
   "id": "12d81d17-6c4d-435c-a03c-402a9f6391d1",
   "metadata": {},
   "source": [
    "## Q5. Building a prompt"
   ]
  },
  {
   "cell_type": "code",
   "execution_count": 19,
   "id": "f511b5d9-5bf1-4086-8329-bd735ee896cf",
   "metadata": {},
   "outputs": [],
   "source": [
    "result_docs = []\n",
    "\n",
    "for hit in response[\"hits\"][\"hits\"]:\n",
    "    result_docs.append(hit[\"_source\"])"
   ]
  },
  {
   "cell_type": "code",
   "execution_count": 20,
   "id": "0a1ce021-65c4-447c-876b-c7e29240ba3c",
   "metadata": {},
   "outputs": [],
   "source": [
    "context_template = \"\"\"\n",
    "Q: {question}\n",
    "A: {text}\n",
    "\"\"\".strip()"
   ]
  },
  {
   "cell_type": "code",
   "execution_count": 49,
   "id": "fdd0a43b-e2a6-4dcb-81d8-13a1a150146c",
   "metadata": {},
   "outputs": [],
   "source": [
    "context = \"\"\n",
    "for i, doc in enumerate(result_docs):\n",
    "    context = context + context_template.format(question=doc['question'], text=doc['text'])\n",
    "    if (i != len(result_docs) - 1):\n",
    "        context = context + \"\\n\\n\""
   ]
  },
  {
   "cell_type": "code",
   "execution_count": 50,
   "id": "57707e55-b3bf-4d78-9298-8d2b26c866df",
   "metadata": {},
   "outputs": [],
   "source": [
    "query = \"How do I execute a command in a running docker container?\""
   ]
  },
  {
   "cell_type": "code",
   "execution_count": 51,
   "id": "d264c87b-6e91-4c7c-bceb-85816f5d87fe",
   "metadata": {},
   "outputs": [],
   "source": [
    "prompt_template = \"\"\"\n",
    "You're a course teaching assistant. Answer the QUESTION based on the CONTEXT from the FAQ database.\n",
    "Use only the facts from the CONTEXT when answering the QUESTION.\n",
    "\n",
    "QUESTION: {question}\n",
    "\n",
    "CONTEXT:\n",
    "{context}\n",
    "\"\"\".strip()"
   ]
  },
  {
   "cell_type": "code",
   "execution_count": 52,
   "id": "9fce4ede-51a7-4245-a233-88045b5dd991",
   "metadata": {},
   "outputs": [],
   "source": [
    "prompt = prompt_template.format(question=query, context=context)"
   ]
  },
  {
   "cell_type": "code",
   "execution_count": 54,
   "id": "80d241ea-9b80-4dd4-ba7e-e4a280780d24",
   "metadata": {},
   "outputs": [
    {
     "data": {
      "text/plain": [
       "1462"
      ]
     },
     "execution_count": 54,
     "metadata": {},
     "output_type": "execute_result"
    }
   ],
   "source": [
    "len(prompt)"
   ]
  },
  {
   "cell_type": "markdown",
   "id": "75a8db1e-0a15-429d-9a56-ce8251f70ac2",
   "metadata": {},
   "source": [
    "The resulting prompt has a length of: **1462**"
   ]
  },
  {
   "cell_type": "markdown",
   "id": "c50e0375-e76f-41a9-acbe-c338f9e3e472",
   "metadata": {},
   "source": [
    "## Q6. Tokens"
   ]
  },
  {
   "cell_type": "code",
   "execution_count": 55,
   "id": "44dd9408-8491-4b15-bbb1-cb8667a85611",
   "metadata": {},
   "outputs": [],
   "source": [
    "import tiktoken"
   ]
  },
  {
   "cell_type": "code",
   "execution_count": 56,
   "id": "8d2caf15-8cff-4f0c-9ddd-8a96908f2dba",
   "metadata": {},
   "outputs": [],
   "source": [
    "encoding = tiktoken.encoding_for_model(\"gpt-4o\")"
   ]
  },
  {
   "cell_type": "code",
   "execution_count": 57,
   "id": "88bcc123-0ed3-48d9-8b64-d191b5a2ebdc",
   "metadata": {},
   "outputs": [],
   "source": [
    "encoded_prompt = encoding.encode(prompt)"
   ]
  },
  {
   "cell_type": "code",
   "execution_count": 58,
   "id": "0d30646e-3ff5-4419-b93b-3dd3fc26ebfe",
   "metadata": {},
   "outputs": [
    {
     "data": {
      "text/plain": [
       "322"
      ]
     },
     "execution_count": 58,
     "metadata": {},
     "output_type": "execute_result"
    }
   ],
   "source": [
    "len(encoded_prompt)"
   ]
  },
  {
   "cell_type": "markdown",
   "id": "762918ee-c281-4a16-ab5d-548f69b688a6",
   "metadata": {},
   "source": [
    "The encoded prompt has **322** tokens"
   ]
  }
 ],
 "metadata": {
  "kernelspec": {
   "display_name": "Python 3 (ipykernel)",
   "language": "python",
   "name": "python3"
  },
  "language_info": {
   "codemirror_mode": {
    "name": "ipython",
    "version": 3
   },
   "file_extension": ".py",
   "mimetype": "text/x-python",
   "name": "python",
   "nbconvert_exporter": "python",
   "pygments_lexer": "ipython3",
   "version": "3.10.13"
  }
 },
 "nbformat": 4,
 "nbformat_minor": 5
}
